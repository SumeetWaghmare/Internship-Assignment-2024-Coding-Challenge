{
 "cells": [
  {
   "cell_type": "code",
   "execution_count": 2,
   "metadata": {},
   "outputs": [
    {
     "name": "stderr",
     "output_type": "stream",
     "text": [
      "C:\\Users\\HP\\AppData\\Local\\Temp\\ipykernel_7808\\906189758.py:1: DeprecationWarning: \n",
      "Pyarrow will become a required dependency of pandas in the next major release of pandas (pandas 3.0),\n",
      "(to allow more performant data types, such as the Arrow string type, and better interoperability with other libraries)\n",
      "but was not found to be installed on your system.\n",
      "If this would cause problems for you,\n",
      "please provide us feedback at https://github.com/pandas-dev/pandas/issues/54466\n",
      "        \n",
      "  import pandas as pd\n"
     ]
    },
    {
     "name": "stdout",
     "output_type": "stream",
     "text": [
      "Query: Identify the industry in which Canoo operates, along with its size, growth rate, trends, and key players.\n",
      "Summarized Result: Publisher: AnythingResearch                  Market Size                 Growth Rate                 5-Year Market Forecast                 Average Company Size & Growth                 Salary & Compensation Benchmarks\n",
      "--------------------------------------------------\n",
      "Query: Analyze Canoo's main competitors, including their market share, products or services offered, pricing strategies, and marketing efforts.\n",
      "Summarized Result: Further reading: Building a profile for each of your main competitors allows you to benchmark important details, including market share and audience demographics. So, it makes more sense that he sells his products in Sephora stores rather than affordable retail chains like Walmart or CVS.\n",
      "--------------------------------------------------\n",
      "Query: Identify key trends in the market, including changes in consumer behavior, technological advancements, and shifts in the competitive landscape.\n",
      "Summarized Result: Follow these five steps to create your competitive analysis report and get a broad view of where you fit in the market. The questions you should ask will vary by industry, but may include: What story are they trying to tell?\n",
      "--------------------------------------------------\n",
      "Query: Gather information on Canoo's financial performance, including its revenue, profit margins, return on investment, and expense structure.\n",
      "Summarized Result: “We have been clear about our philosophy of raising capital judiciously and will continue with this disciplined approach,” said Tony Aquila, Investor, Chairman & CEO at Canoo. · Net cash provided by investing activities was $2.0 million during the three months ended March 31, 2022, compared to net cash used in investing activities of $12.1 million during the three months ended March 31, 2021.\n",
      "--------------------------------------------------\n"
     ]
    }
   ],
   "source": [
    "import pandas as pd\n",
    "from sklearn.feature_extraction.text import TfidfVectorizer\n",
    "from sklearn.metrics.pairwise import cosine_similarity\n",
    "from sumy.parsers.plaintext import PlaintextParser\n",
    "from sumy.nlp.tokenizers import Tokenizer\n",
    "from sumy.summarizers.lsa import LsaSummarizer\n",
    "from transformers import pipeline\n",
    "\n",
    "# Load the CSV file\n",
    "data = pd.read_csv('Scrape data from web links.csv')\n",
    "\n",
    "# Drop rows with NaN values in the 'information' column\n",
    "data = data.dropna(subset=['information'])\n",
    "\n",
    "# Convert text data into vectors\n",
    "vectorizer = TfidfVectorizer(stop_words='english')\n",
    "tfidf_matrix = vectorizer.fit_transform(data['information'])\n",
    "\n",
    "# Function to perform text summarization\n",
    "def summarize_text(text):\n",
    "    parser = PlaintextParser.from_string(text, Tokenizer(\"english\"))\n",
    "    summarizer = LsaSummarizer()\n",
    "    summary = summarizer(parser.document, sentences_count=2)\n",
    "    summarized_text = \" \".join([str(sentence) for sentence in summary])\n",
    "    return summarized_text\n",
    "\n",
    "# Function to perform query and summarization\n",
    "def perform_query(query, tfidf_matrix, vectorizer, data):\n",
    "    query_vector = vectorizer.transform([query])\n",
    "    cosine_similarities = cosine_similarity(query_vector, tfidf_matrix)\n",
    "    most_similar_index = cosine_similarities.argsort()[0][-1]\n",
    "    relevant_information = data.loc[most_similar_index, 'information']\n",
    "    summarized_information = summarize_text(relevant_information)\n",
    "    return summarized_information\n",
    "\n",
    "# Example queries\n",
    "example_queries = [\n",
    "    \"Identify the industry in which Canoo operates, along with its size, growth rate, trends, and key players.\",\n",
    "    \"Analyze Canoo's main competitors, including their market share, products or services offered, pricing strategies, and marketing efforts.\",\n",
    "    \"Identify key trends in the market, including changes in consumer behavior, technological advancements, and shifts in the competitive landscape.\",\n",
    "    \"Gather information on Canoo's financial performance, including its revenue, profit margins, return on investment, and expense structure.\"\n",
    "]\n",
    "\n",
    "# Perform queries and print summarized results\n",
    "for query in example_queries:\n",
    "    print(\"Query:\", query)\n",
    "    summarized_result = perform_query(query, tfidf_matrix, vectorizer, data)\n",
    "    print(\"Summarized Result:\", summarized_result)\n",
    "    print(\"-\" * 50)\n"
   ]
  }
 ],
 "metadata": {
  "kernelspec": {
   "display_name": "Python 3",
   "language": "python",
   "name": "python3"
  },
  "language_info": {
   "codemirror_mode": {
    "name": "ipython",
    "version": 3
   },
   "file_extension": ".py",
   "mimetype": "text/x-python",
   "name": "python",
   "nbconvert_exporter": "python",
   "pygments_lexer": "ipython3",
   "version": "3.12.2"
  }
 },
 "nbformat": 4,
 "nbformat_minor": 2
}
